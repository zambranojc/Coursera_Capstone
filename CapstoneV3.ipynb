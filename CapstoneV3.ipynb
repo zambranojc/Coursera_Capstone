{
 "cells": [
  {
   "cell_type": "markdown",
   "metadata": {},
   "source": [
    "# Capstone IBM\n",
    "\n",
    "Data source:\n",
    "https://www.kaggle.com/sobhanmoosavi/us-accidents\n",
    "\n",
    "### Acknowledgements \n",
    "Moosavi, Sobhan, Mohammad Hossein Samavatian, Srinivasan Parthasarathy, and Rajiv Ramnath. “A Countrywide Traffic Accident Dataset.”, 2019.\n",
    "\n",
    "Moosavi, Sobhan, Mohammad Hossein Samavatian, Srinivasan Parthasarathy, Radu Teodorescu, and Rajiv Ramnath. \"Accident Risk Prediction based on Heterogeneous Sparse Data: New Dataset and Insights.\" In proceedings of the 27th ACM SIGSPATIAL International Conference on Advances in Geographic Information Systems, ACM, 2019.\n",
    "\n",
    "Author\n",
    "Ronghui Zhou, zhou.uf@gmail.com https://github.com/RonghuiZhou"
   ]
  },
  {
   "cell_type": "markdown",
   "metadata": {},
   "source": [
    "## Import libraries"
   ]
  },
  {
   "cell_type": "code",
   "execution_count": 1,
   "metadata": {},
   "outputs": [],
   "source": [
    "\n",
    "import pandas as pd\n",
    "import numpy as np\n",
    "from io import StringIO\n",
    "import pydotplus\n",
    "import seaborn as sns\n",
    "\n",
    "import itertools\n",
    "\n",
    "import matplotlib as mpl\n",
    "import matplotlib.pyplot as plt\n",
    "import matplotlib.image as mpimg\n",
    "\n",
    "from sklearn import preprocessing\n",
    "from sklearn.model_selection import train_test_split\n",
    "from sklearn.neighbors import KNeighborsClassifier\n",
    "from sklearn.tree import DecisionTreeClassifier\n",
    "from sklearn.linear_model import LogisticRegression\n",
    "from sklearn import svm\n",
    "from sklearn import tree\n",
    "from sklearn import metrics\n",
    "from sklearn.metrics import f1_score\n",
    "from sklearn.metrics import jaccard_score\n",
    "from sklearn.metrics import log_loss\n",
    "from sklearn.metrics import classification_report, confusion_matrix\n",
    "\n",
    "%matplotlib inline"
   ]
  },
  {
   "cell_type": "markdown",
   "metadata": {},
   "source": [
    "## Import Data"
   ]
  },
  {
   "cell_type": "code",
   "execution_count": 2,
   "metadata": {},
   "outputs": [
    {
     "name": "stdout",
     "output_type": "stream",
     "text": [
      "<class 'pandas.core.frame.DataFrame'>\n",
      "RangeIndex: 3513617 entries, 0 to 3513616\n",
      "Data columns (total 49 columns):\n",
      " #   Column                 Dtype  \n",
      "---  ------                 -----  \n",
      " 0   ID                     object \n",
      " 1   Source                 object \n",
      " 2   TMC                    float64\n",
      " 3   Severity               int64  \n",
      " 4   Start_Time             object \n",
      " 5   End_Time               object \n",
      " 6   Start_Lat              float64\n",
      " 7   Start_Lng              float64\n",
      " 8   End_Lat                float64\n",
      " 9   End_Lng                float64\n",
      " 10  Distance(mi)           float64\n",
      " 11  Description            object \n",
      " 12  Number                 float64\n",
      " 13  Street                 object \n",
      " 14  Side                   object \n",
      " 15  City                   object \n",
      " 16  County                 object \n",
      " 17  State                  object \n",
      " 18  Zipcode                object \n",
      " 19  Country                object \n",
      " 20  Timezone               object \n",
      " 21  Airport_Code           object \n",
      " 22  Weather_Timestamp      object \n",
      " 23  Temperature(F)         float64\n",
      " 24  Wind_Chill(F)          float64\n",
      " 25  Humidity(%)            float64\n",
      " 26  Pressure(in)           float64\n",
      " 27  Visibility(mi)         float64\n",
      " 28  Wind_Direction         object \n",
      " 29  Wind_Speed(mph)        float64\n",
      " 30  Precipitation(in)      float64\n",
      " 31  Weather_Condition      object \n",
      " 32  Amenity                bool   \n",
      " 33  Bump                   bool   \n",
      " 34  Crossing               bool   \n",
      " 35  Give_Way               bool   \n",
      " 36  Junction               bool   \n",
      " 37  No_Exit                bool   \n",
      " 38  Railway                bool   \n",
      " 39  Roundabout             bool   \n",
      " 40  Station                bool   \n",
      " 41  Stop                   bool   \n",
      " 42  Traffic_Calming        bool   \n",
      " 43  Traffic_Signal         bool   \n",
      " 44  Turning_Loop           bool   \n",
      " 45  Sunrise_Sunset         object \n",
      " 46  Civil_Twilight         object \n",
      " 47  Nautical_Twilight      object \n",
      " 48  Astronomical_Twilight  object \n",
      "dtypes: bool(13), float64(14), int64(1), object(21)\n",
      "memory usage: 1008.6+ MB\n"
     ]
    }
   ],
   "source": [
    "\n",
    "df=pd.read_csv(r'US_Accidents_June20.csv')\n",
    "df.info()"
   ]
  },
  {
   "cell_type": "markdown",
   "metadata": {},
   "source": [
    "## Basic Distribution Severity"
   ]
  },
  {
   "cell_type": "code",
   "execution_count": 3,
   "metadata": {},
   "outputs": [
    {
     "data": {
      "text/plain": [
       "Text(0.5, 1.0, 'Count Accidents by Severity')"
      ]
     },
     "execution_count": 3,
     "metadata": {},
     "output_type": "execute_result"
    },
    {
     "data": {
      "image/png": "[encoded data removed]",
      "text/plain": [
       "<Figure size 1296x432 with 2 Axes>"
      ]
     },
     "metadata": {
      "needs_background": "light"
     },
     "output_type": "display_data"
    }
   ],
   "source": [
    "fig,ax = plt.subplots(1,2,figsize=(18,6))\n",
    "sizes = df.groupby('Severity').size()\n",
    "sizes = sizes[[2,1,3,4]]\n",
    "labels = 'Severity 2','Severity 1', 'Severity 3', 'Severity 4' \n",
    "explode = (0.1,0.1,0.1,0.1)\n",
    "ax[0].pie(sizes, explode=explode, labels= labels,autopct='%1.2f%%',shadow=True, startangle=0)\n",
    "ax[0].axis('equal') \n",
    "ax[0].set_title('Accidents by Severity', size=20)\n",
    "\n",
    "ax[1].hist(df['Severity'])\n",
    "ax[1].set_title('Count Accidents by Severity', size=20)"
   ]
  },
  {
   "cell_type": "markdown",
   "metadata": {},
   "source": [
    "## Dealing with nulls, NaNs, Outliers and missing data."
   ]
  },
  {
   "cell_type": "code",
   "execution_count": 4,
   "metadata": {},
   "outputs": [
    {
     "data": {
      "text/html": [
       "<div>\n",
       "<style scoped>\n",
       "    .dataframe tbody tr th:only-of-type {\n",
       "        vertical-align: middle;\n",
       "    }\n",
       "\n",
       "    .dataframe tbody tr th {\n",
       "        vertical-align: top;\n",
       "    }\n",
       "\n",
       "    .dataframe thead th {\n",
       "        text-align: right;\n",
       "    }\n",
       "</style>\n",
       "<table border=\"1\" class=\"dataframe\">\n",
       "  <thead>\n",
       "    <tr style=\"text-align: right;\">\n",
       "      <th></th>\n",
       "      <th>ID</th>\n",
       "      <th>Source</th>\n",
       "      <th>TMC</th>\n",
       "      <th>Severity</th>\n",
       "      <th>Start_Time</th>\n",
       "      <th>End_Time</th>\n",
       "      <th>Start_Lat</th>\n",
       "      <th>Start_Lng</th>\n",
       "      <th>End_Lat</th>\n",
       "      <th>End_Lng</th>\n",
       "      <th>...</th>\n",
       "      <th>Roundabout</th>\n",
       "      <th>Station</th>\n",
       "      <th>Stop</th>\n",
       "      <th>Traffic_Calming</th>\n",
       "      <th>Traffic_Signal</th>\n",
       "      <th>Turning_Loop</th>\n",
       "      <th>Sunrise_Sunset</th>\n",
       "      <th>Civil_Twilight</th>\n",
       "      <th>Nautical_Twilight</th>\n",
       "      <th>Astronomical_Twilight</th>\n",
       "    </tr>\n",
       "  </thead>\n",
       "  <tbody>\n",
       "    <tr>\n",
       "      <th>0</th>\n",
       "      <td>False</td>\n",
       "      <td>False</td>\n",
       "      <td>False</td>\n",
       "      <td>False</td>\n",
       "      <td>False</td>\n",
       "      <td>False</td>\n",
       "      <td>False</td>\n",
       "      <td>False</td>\n",
       "      <td>True</td>\n",
       "      <td>True</td>\n",
       "      <td>...</td>\n",
       "      <td>False</td>\n",
       "      <td>False</td>\n",
       "      <td>False</td>\n",
       "      <td>False</td>\n",
       "      <td>False</td>\n",
       "      <td>False</td>\n",
       "      <td>False</td>\n",
       "      <td>False</td>\n",
       "      <td>False</td>\n",
       "      <td>False</td>\n",
       "    </tr>\n",
       "    <tr>\n",
       "      <th>1</th>\n",
       "      <td>False</td>\n",
       "      <td>False</td>\n",
       "      <td>False</td>\n",
       "      <td>False</td>\n",
       "      <td>False</td>\n",
       "      <td>False</td>\n",
       "      <td>False</td>\n",
       "      <td>False</td>\n",
       "      <td>True</td>\n",
       "      <td>True</td>\n",
       "      <td>...</td>\n",
       "      <td>False</td>\n",
       "      <td>False</td>\n",
       "      <td>False</td>\n",
       "      <td>False</td>\n",
       "      <td>False</td>\n",
       "      <td>False</td>\n",
       "      <td>False</td>\n",
       "      <td>False</td>\n",
       "      <td>False</td>\n",
       "      <td>False</td>\n",
       "    </tr>\n",
       "    <tr>\n",
       "      <th>2</th>\n",
       "      <td>False</td>\n",
       "      <td>False</td>\n",
       "      <td>False</td>\n",
       "      <td>False</td>\n",
       "      <td>False</td>\n",
       "      <td>False</td>\n",
       "      <td>False</td>\n",
       "      <td>False</td>\n",
       "      <td>True</td>\n",
       "      <td>True</td>\n",
       "      <td>...</td>\n",
       "      <td>False</td>\n",
       "      <td>False</td>\n",
       "      <td>False</td>\n",
       "      <td>False</td>\n",
       "      <td>False</td>\n",
       "      <td>False</td>\n",
       "      <td>False</td>\n",
       "      <td>False</td>\n",
       "      <td>False</td>\n",
       "      <td>False</td>\n",
       "    </tr>\n",
       "    <tr>\n",
       "      <th>3</th>\n",
       "      <td>False</td>\n",
       "      <td>False</td>\n",
       "      <td>False</td>\n",
       "      <td>False</td>\n",
       "      <td>False</td>\n",
       "      <td>False</td>\n",
       "      <td>False</td>\n",
       "      <td>False</td>\n",
       "      <td>True</td>\n",
       "      <td>True</td>\n",
       "      <td>...</td>\n",
       "      <td>False</td>\n",
       "      <td>False</td>\n",
       "      <td>False</td>\n",
       "      <td>False</td>\n",
       "      <td>False</td>\n",
       "      <td>False</td>\n",
       "      <td>False</td>\n",
       "      <td>False</td>\n",
       "      <td>False</td>\n",
       "      <td>False</td>\n",
       "    </tr>\n",
       "    <tr>\n",
       "      <th>4</th>\n",
       "      <td>False</td>\n",
       "      <td>False</td>\n",
       "      <td>False</td>\n",
       "      <td>False</td>\n",
       "      <td>False</td>\n",
       "      <td>False</td>\n",
       "      <td>False</td>\n",
       "      <td>False</td>\n",
       "      <td>True</td>\n",
       "      <td>True</td>\n",
       "      <td>...</td>\n",
       "      <td>False</td>\n",
       "      <td>False</td>\n",
       "      <td>False</td>\n",
       "      <td>False</td>\n",
       "      <td>False</td>\n",
       "      <td>False</td>\n",
       "      <td>False</td>\n",
       "      <td>False</td>\n",
       "      <td>False</td>\n",
       "      <td>False</td>\n",
       "    </tr>\n",
       "  </tbody>\n",
       "</table>\n",
       "<p>5 rows × 49 columns</p>\n",
       "</div>"
      ],
      "text/plain": [
       "      ID  Source    TMC  Severity  Start_Time  End_Time  Start_Lat  Start_Lng  \\\n",
       "0  False   False  False     False       False     False      False      False   \n",
       "1  False   False  False     False       False     False      False      False   \n",
       "2  False   False  False     False       False     False      False      False   \n",
       "3  False   False  False     False       False     False      False      False   \n",
       "4  False   False  False     False       False     False      False      False   \n",
       "\n",
       "   End_Lat  End_Lng  ...  Roundabout  Station   Stop  Traffic_Calming  \\\n",
       "0     True     True  ...       False    False  False            False   \n",
       "1     True     True  ...       False    False  False            False   \n",
       "2     True     True  ...       False    False  False            False   \n",
       "3     True     True  ...       False    False  False            False   \n",
       "4     True     True  ...       False    False  False            False   \n",
       "\n",
       "   Traffic_Signal  Turning_Loop  Sunrise_Sunset  Civil_Twilight  \\\n",
       "0           False         False           False           False   \n",
       "1           False         False           False           False   \n",
       "2           False         False           False           False   \n",
       "3           False         False           False           False   \n",
       "4           False         False           False           False   \n",
       "\n",
       "   Nautical_Twilight  Astronomical_Twilight  \n",
       "0              False                  False  \n",
       "1              False                  False  \n",
       "2              False                  False  \n",
       "3              False                  False  \n",
       "4              False                  False  \n",
       "\n",
       "[5 rows x 49 columns]"
      ]
     },
     "execution_count": 4,
     "metadata": {},
     "output_type": "execute_result"
    }
   ],
   "source": [
    "missing_data = df.isnull()\n",
    "missing_data.head(5)"
   ]
  },
  {
   "cell_type": "code",
   "execution_count": 5,
   "metadata": {},
   "outputs": [
    {
     "name": "stdout",
     "output_type": "stream",
     "text": [
      "ID\n",
      "False    3513617\n",
      "Name: ID, dtype: int64\n",
      "\n",
      "Source\n",
      "False    3513617\n",
      "Name: Source, dtype: int64\n",
      "\n",
      "TMC\n",
      "False    2478818\n",
      "True     1034799\n",
      "Name: TMC, dtype: int64\n",
      "\n",
      "Severity\n",
      "False    3513617\n",
      "Name: Severity, dtype: int64\n",
      "\n",
      "Start_Time\n",
      "False    3513617\n",
      "Name: Start_Time, dtype: int64\n",
      "\n",
      "End_Time\n",
      "False    3513617\n",
      "Name: End_Time, dtype: int64\n",
      "\n",
      "Start_Lat\n",
      "False    3513617\n",
      "Name: Start_Lat, dtype: int64\n",
      "\n",
      "Start_Lng\n",
      "False    3513617\n",
      "Name: Start_Lng, dtype: int64\n",
      "\n",
      "End_Lat\n",
      "True     2478818\n",
      "False    1034799\n",
      "Name: End_Lat, dtype: int64\n",
      "\n",
      "End_Lng\n",
      "True     2478818\n",
      "False    1034799\n",
      "Name: End_Lng, dtype: int64\n",
      "\n",
      "Distance(mi)\n",
      "False    3513617\n",
      "Name: Distance(mi), dtype: int64\n",
      "\n",
      "Description\n",
      "False    3513616\n",
      "True           1\n",
      "Name: Description, dtype: int64\n",
      "\n",
      "Number\n",
      "True     2262864\n",
      "False    1250753\n",
      "Name: Number, dtype: int64\n",
      "\n",
      "Street\n",
      "False    3513617\n",
      "Name: Street, dtype: int64\n",
      "\n",
      "Side\n",
      "False    3513617\n",
      "Name: Side, dtype: int64\n",
      "\n",
      "City\n",
      "False    3513505\n",
      "True         112\n",
      "Name: City, dtype: int64\n",
      "\n",
      "County\n",
      "False    3513617\n",
      "Name: County, dtype: int64\n",
      "\n",
      "State\n",
      "False    3513617\n",
      "Name: State, dtype: int64\n",
      "\n",
      "Zipcode\n",
      "False    3512548\n",
      "True        1069\n",
      "Name: Zipcode, dtype: int64\n",
      "\n",
      "Country\n",
      "False    3513617\n",
      "Name: Country, dtype: int64\n",
      "\n",
      "Timezone\n",
      "False    3509737\n",
      "True        3880\n",
      "Name: Timezone, dtype: int64\n",
      "\n",
      "Airport_Code\n",
      "False    3506859\n",
      "True        6758\n",
      "Name: Airport_Code, dtype: int64\n",
      "\n",
      "Weather_Timestamp\n",
      "False    3470294\n",
      "True       43323\n",
      "Name: Weather_Timestamp, dtype: int64\n",
      "\n",
      "Temperature(F)\n",
      "False    3447885\n",
      "True       65732\n",
      "Name: Temperature(F), dtype: int64\n",
      "\n",
      "Wind_Chill(F)\n",
      "True     1868249\n",
      "False    1645368\n",
      "Name: Wind_Chill(F), dtype: int64\n",
      "\n",
      "Humidity(%)\n",
      "False    3443930\n",
      "True       69687\n",
      "Name: Humidity(%), dtype: int64\n",
      "\n",
      "Pressure(in)\n",
      "False    3457735\n",
      "True       55882\n",
      "Name: Pressure(in), dtype: int64\n",
      "\n",
      "Visibility(mi)\n",
      "False    3437761\n",
      "True       75856\n",
      "Name: Visibility(mi), dtype: int64\n",
      "\n",
      "Wind_Direction\n",
      "False    3454743\n",
      "True       58874\n",
      "Name: Wind_Direction, dtype: int64\n",
      "\n",
      "Wind_Speed(mph)\n",
      "False    3059008\n",
      "True      454609\n",
      "Name: Wind_Speed(mph), dtype: int64\n",
      "\n",
      "Precipitation(in)\n",
      "True     2025874\n",
      "False    1487743\n",
      "Name: Precipitation(in), dtype: int64\n",
      "\n",
      "Weather_Condition\n",
      "False    3437479\n",
      "True       76138\n",
      "Name: Weather_Condition, dtype: int64\n",
      "\n",
      "Amenity\n",
      "False    3513617\n",
      "Name: Amenity, dtype: int64\n",
      "\n",
      "Bump\n",
      "False    3513617\n",
      "Name: Bump, dtype: int64\n",
      "\n",
      "Crossing\n",
      "False    3513617\n",
      "Name: Crossing, dtype: int64\n",
      "\n",
      "Give_Way\n",
      "False    3513617\n",
      "Name: Give_Way, dtype: int64\n",
      "\n",
      "Junction\n",
      "False    3513617\n",
      "Name: Junction, dtype: int64\n",
      "\n",
      "No_Exit\n",
      "False    3513617\n",
      "Name: No_Exit, dtype: int64\n",
      "\n",
      "Railway\n",
      "False    3513617\n",
      "Name: Railway, dtype: int64\n",
      "\n",
      "Roundabout\n",
      "False    3513617\n",
      "Name: Roundabout, dtype: int64\n",
      "\n",
      "Station\n",
      "False    3513617\n",
      "Name: Station, dtype: int64\n",
      "\n",
      "Stop\n",
      "False    3513617\n",
      "Name: Stop, dtype: int64\n",
      "\n",
      "Traffic_Calming\n",
      "False    3513617\n",
      "Name: Traffic_Calming, dtype: int64\n",
      "\n",
      "Traffic_Signal\n",
      "False    3513617\n",
      "Name: Traffic_Signal, dtype: int64\n",
      "\n",
      "Turning_Loop\n",
      "False    3513617\n",
      "Name: Turning_Loop, dtype: int64\n",
      "\n",
      "Sunrise_Sunset\n",
      "False    3513502\n",
      "True         115\n",
      "Name: Sunrise_Sunset, dtype: int64\n",
      "\n",
      "Civil_Twilight\n",
      "False    3513502\n",
      "True         115\n",
      "Name: Civil_Twilight, dtype: int64\n",
      "\n",
      "Nautical_Twilight\n",
      "False    3513502\n",
      "True         115\n",
      "Name: Nautical_Twilight, dtype: int64\n",
      "\n",
      "Astronomical_Twilight\n",
      "False    3513502\n",
      "True         115\n",
      "Name: Astronomical_Twilight, dtype: int64\n",
      "\n"
     ]
    }
   ],
   "source": [
    "for column in missing_data.columns.values.tolist():\n",
    "    print(column)\n",
    "    print (missing_data[column].value_counts())\n",
    "    print(\"\")   "
   ]
  },
  {
   "cell_type": "markdown",
   "metadata": {},
   "source": [
    "## Replace missing values"
   ]
  },
  {
   "cell_type": "code",
   "execution_count": 6,
   "metadata": {},
   "outputs": [],
   "source": [
    "median = df['TMC'].median()\n",
    "df['TMC'].fillna(median, inplace=True)\n",
    "\n",
    "new = df['Start_Lat']\n",
    "df['End_Lat'].fillna(new, inplace=True)\n",
    "\n",
    "new = df['Start_Lng']\n",
    "df['End_Lng'].fillna(new, inplace=True)\n",
    "\n",
    "freq = df['Description'].value_counts().idxmax()\n",
    "df['Description'].fillna(freq, inplace=True)\n",
    "\n",
    "median = df['Number'].median()\n",
    "df['Number'].fillna(median, inplace=True)\n",
    "\n",
    "freq = df['City'].value_counts().idxmax()\n",
    "df['City'].fillna(freq, inplace=True)\n",
    "\n",
    "freq = df['Zipcode'].value_counts().idxmax()\n",
    "df['Zipcode'].fillna(freq, inplace=True)\n",
    "\n",
    "freq = df['Timezone'].value_counts().idxmax()\n",
    "df['Timezone'].fillna(freq, inplace=True)\n",
    "\n",
    "freq = df['Airport_Code'].value_counts().idxmax()\n",
    "df['Airport_Code'].fillna(freq, inplace=True)\n",
    "\n",
    "freq = df['Weather_Timestamp'].value_counts().idxmax()\n",
    "df['Weather_Timestamp'].fillna(freq, inplace=True)\n",
    "\n",
    "freq = df['Temperature(F)'].value_counts().idxmax()\n",
    "df['Temperature(F)'].fillna(freq, inplace=True)\n",
    "\n",
    "median = df['Wind_Chill(F)'].median()\n",
    "df['Wind_Chill(F)'].fillna(median, inplace=True)\n",
    "\n",
    "freq = df['Humidity(%)'].value_counts().idxmax()\n",
    "df['Humidity(%)'].fillna(freq, inplace=True)\n",
    "\n",
    "median = df['Pressure(in)'].median()\n",
    "df['Pressure(in)'].fillna(median, inplace=True)\n",
    "\n",
    "median = df['Visibility(mi)'].median()\n",
    "df['Visibility(mi)'].fillna(median, inplace=True)\n",
    "\n",
    "freq = df['Wind_Direction'].value_counts().idxmax()\n",
    "df['Wind_Direction'].fillna(freq, inplace=True)\n",
    "\n",
    "freq = df['Wind_Speed(mph)'].value_counts().idxmax()\n",
    "df['Wind_Speed(mph)'].fillna(freq, inplace=True)\n",
    "\n",
    "freq = df['Precipitation(in)'].value_counts().idxmax()\n",
    "df['Precipitation(in)'].fillna(freq, inplace=True)\n",
    "\n",
    "freq = df['Weather_Condition'].value_counts().idxmax()\n",
    "df['Weather_Condition'].fillna(freq, inplace=True)\n",
    "\n",
    "freq = df['Sunrise_Sunset'].value_counts().idxmax()\n",
    "df['Sunrise_Sunset'].fillna(freq, inplace=True)\n",
    "\n",
    "freq = df['Civil_Twilight'].value_counts().idxmax()\n",
    "df['Civil_Twilight'].fillna(freq, inplace=True)\n",
    "\n",
    "freq = df['Nautical_Twilight'].value_counts().idxmax()\n",
    "df['Nautical_Twilight'].fillna(freq, inplace=True)\n",
    "\n",
    "freq = df['Astronomical_Twilight'].value_counts().idxmax()\n",
    "df['Astronomical_Twilight'].fillna(freq, inplace=True)"
   ]
  },
  {
   "cell_type": "markdown",
   "metadata": {},
   "source": [
    "## Validating"
   ]
  },
  {
   "cell_type": "code",
   "execution_count": 7,
   "metadata": {},
   "outputs": [
    {
     "data": {
      "text/html": [
       "<div>\n",
       "<style scoped>\n",
       "    .dataframe tbody tr th:only-of-type {\n",
       "        vertical-align: middle;\n",
       "    }\n",
       "\n",
       "    .dataframe tbody tr th {\n",
       "        vertical-align: top;\n",
       "    }\n",
       "\n",
       "    .dataframe thead th {\n",
       "        text-align: right;\n",
       "    }\n",
       "</style>\n",
       "<table border=\"1\" class=\"dataframe\">\n",
       "  <thead>\n",
       "    <tr style=\"text-align: right;\">\n",
       "      <th></th>\n",
       "      <th>ID</th>\n",
       "      <th>Source</th>\n",
       "      <th>TMC</th>\n",
       "      <th>Severity</th>\n",
       "      <th>Start_Time</th>\n",
       "      <th>End_Time</th>\n",
       "      <th>Start_Lat</th>\n",
       "      <th>Start_Lng</th>\n",
       "      <th>End_Lat</th>\n",
       "      <th>End_Lng</th>\n",
       "      <th>...</th>\n",
       "      <th>Roundabout</th>\n",
       "      <th>Station</th>\n",
       "      <th>Stop</th>\n",
       "      <th>Traffic_Calming</th>\n",
       "      <th>Traffic_Signal</th>\n",
       "      <th>Turning_Loop</th>\n",
       "      <th>Sunrise_Sunset</th>\n",
       "      <th>Civil_Twilight</th>\n",
       "      <th>Nautical_Twilight</th>\n",
       "      <th>Astronomical_Twilight</th>\n",
       "    </tr>\n",
       "  </thead>\n",
       "  <tbody>\n",
       "    <tr>\n",
       "      <th>0</th>\n",
       "      <td>False</td>\n",
       "      <td>False</td>\n",
       "      <td>False</td>\n",
       "      <td>False</td>\n",
       "      <td>False</td>\n",
       "      <td>False</td>\n",
       "      <td>False</td>\n",
       "      <td>False</td>\n",
       "      <td>False</td>\n",
       "      <td>False</td>\n",
       "      <td>...</td>\n",
       "      <td>False</td>\n",
       "      <td>False</td>\n",
       "      <td>False</td>\n",
       "      <td>False</td>\n",
       "      <td>False</td>\n",
       "      <td>False</td>\n",
       "      <td>False</td>\n",
       "      <td>False</td>\n",
       "      <td>False</td>\n",
       "      <td>False</td>\n",
       "    </tr>\n",
       "    <tr>\n",
       "      <th>1</th>\n",
       "      <td>False</td>\n",
       "      <td>False</td>\n",
       "      <td>False</td>\n",
       "      <td>False</td>\n",
       "      <td>False</td>\n",
       "      <td>False</td>\n",
       "      <td>False</td>\n",
       "      <td>False</td>\n",
       "      <td>False</td>\n",
       "      <td>False</td>\n",
       "      <td>...</td>\n",
       "      <td>False</td>\n",
       "      <td>False</td>\n",
       "      <td>False</td>\n",
       "      <td>False</td>\n",
       "      <td>False</td>\n",
       "      <td>False</td>\n",
       "      <td>False</td>\n",
       "      <td>False</td>\n",
       "      <td>False</td>\n",
       "      <td>False</td>\n",
       "    </tr>\n",
       "    <tr>\n",
       "      <th>2</th>\n",
       "      <td>False</td>\n",
       "      <td>False</td>\n",
       "      <td>False</td>\n",
       "      <td>False</td>\n",
       "      <td>False</td>\n",
       "      <td>False</td>\n",
       "      <td>False</td>\n",
       "      <td>False</td>\n",
       "      <td>False</td>\n",
       "      <td>False</td>\n",
       "      <td>...</td>\n",
       "      <td>False</td>\n",
       "      <td>False</td>\n",
       "      <td>False</td>\n",
       "      <td>False</td>\n",
       "      <td>False</td>\n",
       "      <td>False</td>\n",
       "      <td>False</td>\n",
       "      <td>False</td>\n",
       "      <td>False</td>\n",
       "      <td>False</td>\n",
       "    </tr>\n",
       "    <tr>\n",
       "      <th>3</th>\n",
       "      <td>False</td>\n",
       "      <td>False</td>\n",
       "      <td>False</td>\n",
       "      <td>False</td>\n",
       "      <td>False</td>\n",
       "      <td>False</td>\n",
       "      <td>False</td>\n",
       "      <td>False</td>\n",
       "      <td>False</td>\n",
       "      <td>False</td>\n",
       "      <td>...</td>\n",
       "      <td>False</td>\n",
       "      <td>False</td>\n",
       "      <td>False</td>\n",
       "      <td>False</td>\n",
       "      <td>False</td>\n",
       "      <td>False</td>\n",
       "      <td>False</td>\n",
       "      <td>False</td>\n",
       "      <td>False</td>\n",
       "      <td>False</td>\n",
       "    </tr>\n",
       "    <tr>\n",
       "      <th>4</th>\n",
       "      <td>False</td>\n",
       "      <td>False</td>\n",
       "      <td>False</td>\n",
       "      <td>False</td>\n",
       "      <td>False</td>\n",
       "      <td>False</td>\n",
       "      <td>False</td>\n",
       "      <td>False</td>\n",
       "      <td>False</td>\n",
       "      <td>False</td>\n",
       "      <td>...</td>\n",
       "      <td>False</td>\n",
       "      <td>False</td>\n",
       "      <td>False</td>\n",
       "      <td>False</td>\n",
       "      <td>False</td>\n",
       "      <td>False</td>\n",
       "      <td>False</td>\n",
       "      <td>False</td>\n",
       "      <td>False</td>\n",
       "      <td>False</td>\n",
       "    </tr>\n",
       "  </tbody>\n",
       "</table>\n",
       "<p>5 rows × 49 columns</p>\n",
       "</div>"
      ],
      "text/plain": [
       "      ID  Source    TMC  Severity  Start_Time  End_Time  Start_Lat  Start_Lng  \\\n",
       "0  False   False  False     False       False     False      False      False   \n",
       "1  False   False  False     False       False     False      False      False   \n",
       "2  False   False  False     False       False     False      False      False   \n",
       "3  False   False  False     False       False     False      False      False   \n",
       "4  False   False  False     False       False     False      False      False   \n",
       "\n",
       "   End_Lat  End_Lng  ...  Roundabout  Station   Stop  Traffic_Calming  \\\n",
       "0    False    False  ...       False    False  False            False   \n",
       "1    False    False  ...       False    False  False            False   \n",
       "2    False    False  ...       False    False  False            False   \n",
       "3    False    False  ...       False    False  False            False   \n",
       "4    False    False  ...       False    False  False            False   \n",
       "\n",
       "   Traffic_Signal  Turning_Loop  Sunrise_Sunset  Civil_Twilight  \\\n",
       "0           False         False           False           False   \n",
       "1           False         False           False           False   \n",
       "2           False         False           False           False   \n",
       "3           False         False           False           False   \n",
       "4           False         False           False           False   \n",
       "\n",
       "   Nautical_Twilight  Astronomical_Twilight  \n",
       "0              False                  False  \n",
       "1              False                  False  \n",
       "2              False                  False  \n",
       "3              False                  False  \n",
       "4              False                  False  \n",
       "\n",
       "[5 rows x 49 columns]"
      ]
     },
     "execution_count": 7,
     "metadata": {},
     "output_type": "execute_result"
    }
   ],
   "source": [
    "missing_data = df.isnull()\n",
    "missing_data.head(5)"
   ]
  },
  {
   "cell_type": "code",
   "execution_count": 8,
   "metadata": {},
   "outputs": [
    {
     "name": "stdout",
     "output_type": "stream",
     "text": [
      "ID\n",
      "False    3513617\n",
      "Name: ID, dtype: int64\n",
      "\n",
      "Source\n",
      "False    3513617\n",
      "Name: Source, dtype: int64\n",
      "\n",
      "TMC\n",
      "False    3513617\n",
      "Name: TMC, dtype: int64\n",
      "\n",
      "Severity\n",
      "False    3513617\n",
      "Name: Severity, dtype: int64\n",
      "\n",
      "Start_Time\n",
      "False    3513617\n",
      "Name: Start_Time, dtype: int64\n",
      "\n",
      "End_Time\n",
      "False    3513617\n",
      "Name: End_Time, dtype: int64\n",
      "\n",
      "Start_Lat\n",
      "False    3513617\n",
      "Name: Start_Lat, dtype: int64\n",
      "\n",
      "Start_Lng\n",
      "False    3513617\n",
      "Name: Start_Lng, dtype: int64\n",
      "\n",
      "End_Lat\n",
      "False    3513617\n",
      "Name: End_Lat, dtype: int64\n",
      "\n",
      "End_Lng\n",
      "False    3513617\n",
      "Name: End_Lng, dtype: int64\n",
      "\n",
      "Distance(mi)\n",
      "False    3513617\n",
      "Name: Distance(mi), dtype: int64\n",
      "\n",
      "Description\n",
      "False    3513617\n",
      "Name: Description, dtype: int64\n",
      "\n",
      "Number\n",
      "False    3513617\n",
      "Name: Number, dtype: int64\n",
      "\n",
      "Street\n",
      "False    3513617\n",
      "Name: Street, dtype: int64\n",
      "\n",
      "Side\n",
      "False    3513617\n",
      "Name: Side, dtype: int64\n",
      "\n",
      "City\n",
      "False    3513617\n",
      "Name: City, dtype: int64\n",
      "\n",
      "County\n",
      "False    3513617\n",
      "Name: County, dtype: int64\n",
      "\n",
      "State\n",
      "False    3513617\n",
      "Name: State, dtype: int64\n",
      "\n",
      "Zipcode\n",
      "False    3513617\n",
      "Name: Zipcode, dtype: int64\n",
      "\n",
      "Country\n",
      "False    3513617\n",
      "Name: Country, dtype: int64\n",
      "\n",
      "Timezone\n",
      "False    3513617\n",
      "Name: Timezone, dtype: int64\n",
      "\n",
      "Airport_Code\n",
      "False    3513617\n",
      "Name: Airport_Code, dtype: int64\n",
      "\n",
      "Weather_Timestamp\n",
      "False    3513617\n",
      "Name: Weather_Timestamp, dtype: int64\n",
      "\n",
      "Temperature(F)\n",
      "False    3513617\n",
      "Name: Temperature(F), dtype: int64\n",
      "\n",
      "Wind_Chill(F)\n",
      "False    3513617\n",
      "Name: Wind_Chill(F), dtype: int64\n",
      "\n",
      "Humidity(%)\n",
      "False    3513617\n",
      "Name: Humidity(%), dtype: int64\n",
      "\n",
      "Pressure(in)\n",
      "False    3513617\n",
      "Name: Pressure(in), dtype: int64\n",
      "\n",
      "Visibility(mi)\n",
      "False    3513617\n",
      "Name: Visibility(mi), dtype: int64\n",
      "\n",
      "Wind_Direction\n",
      "False    3513617\n",
      "Name: Wind_Direction, dtype: int64\n",
      "\n",
      "Wind_Speed(mph)\n",
      "False    3513617\n",
      "Name: Wind_Speed(mph), dtype: int64\n",
      "\n",
      "Precipitation(in)\n",
      "False    3513617\n",
      "Name: Precipitation(in), dtype: int64\n",
      "\n",
      "Weather_Condition\n",
      "False    3513617\n",
      "Name: Weather_Condition, dtype: int64\n",
      "\n",
      "Amenity\n",
      "False    3513617\n",
      "Name: Amenity, dtype: int64\n",
      "\n",
      "Bump\n",
      "False    3513617\n",
      "Name: Bump, dtype: int64\n",
      "\n",
      "Crossing\n",
      "False    3513617\n",
      "Name: Crossing, dtype: int64\n",
      "\n",
      "Give_Way\n",
      "False    3513617\n",
      "Name: Give_Way, dtype: int64\n",
      "\n",
      "Junction\n",
      "False    3513617\n",
      "Name: Junction, dtype: int64\n",
      "\n",
      "No_Exit\n",
      "False    3513617\n",
      "Name: No_Exit, dtype: int64\n",
      "\n",
      "Railway\n",
      "False    3513617\n",
      "Name: Railway, dtype: int64\n",
      "\n",
      "Roundabout\n",
      "False    3513617\n",
      "Name: Roundabout, dtype: int64\n",
      "\n",
      "Station\n",
      "False    3513617\n",
      "Name: Station, dtype: int64\n",
      "\n",
      "Stop\n",
      "False    3513617\n",
      "Name: Stop, dtype: int64\n",
      "\n",
      "Traffic_Calming\n",
      "False    3513617\n",
      "Name: Traffic_Calming, dtype: int64\n",
      "\n",
      "Traffic_Signal\n",
      "False    3513617\n",
      "Name: Traffic_Signal, dtype: int64\n",
      "\n",
      "Turning_Loop\n",
      "False    3513617\n",
      "Name: Turning_Loop, dtype: int64\n",
      "\n",
      "Sunrise_Sunset\n",
      "False    3513617\n",
      "Name: Sunrise_Sunset, dtype: int64\n",
      "\n",
      "Civil_Twilight\n",
      "False    3513617\n",
      "Name: Civil_Twilight, dtype: int64\n",
      "\n",
      "Nautical_Twilight\n",
      "False    3513617\n",
      "Name: Nautical_Twilight, dtype: int64\n",
      "\n",
      "Astronomical_Twilight\n",
      "False    3513617\n",
      "Name: Astronomical_Twilight, dtype: int64\n",
      "\n"
     ]
    }
   ],
   "source": [
    "for column in missing_data.columns.values.tolist():\n",
    "    print(column)\n",
    "    print (missing_data[column].value_counts())\n",
    "    print(\"\")   "
   ]
  },
  {
   "cell_type": "markdown",
   "metadata": {},
   "source": [
    "## Basic Description of data..."
   ]
  },
  {
   "cell_type": "code",
   "execution_count": 9,
   "metadata": {},
   "outputs": [],
   "source": [
    "#Select attributes for the model\n",
    "df_corr=df.corr()"
   ]
  },
  {
   "cell_type": "code",
   "execution_count": 10,
   "metadata": {},
   "outputs": [
    {
     "data": {
      "text/plain": [
       "Traffic_Signal       0.191531\n",
       "Distance(mi)         0.150326\n",
       "Crossing             0.138368\n",
       "TMC                  0.131999\n",
       "End_Lng              0.083706\n",
       "Start_Lng            0.083705\n",
       "Junction             0.060086\n",
       "Stop                 0.053500\n",
       "Wind_Chill(F)        0.049886\n",
       "Station              0.048260\n",
       "End_Lat              0.047623\n",
       "Start_Lat            0.047617\n",
       "Amenity              0.044494\n",
       "Pressure(in)         0.038368\n",
       "Number               0.037541\n",
       "Humidity(%)          0.035378\n",
       "Temperature(F)       0.026489\n",
       "Wind_Speed(mph)      0.023700\n",
       "Railway              0.023492\n",
       "Give_Way             0.007747\n",
       "Precipitation(in)    0.007436\n",
       "No_Exit              0.006705\n",
       "Traffic_Calming      0.006073\n",
       "Visibility(mi)       0.005540\n",
       "Name: Severity, dtype: float64"
      ]
     },
     "execution_count": 10,
     "metadata": {},
     "output_type": "execute_result"
    }
   ],
   "source": [
    "df_corr=df_corr['Severity'].abs()\n",
    "df_corr=df_corr.sort_values(ascending=False)\n",
    "df_corr=df_corr[1:25]\n",
    "df_corr\n"
   ]
  },
  {
   "cell_type": "markdown",
   "metadata": {},
   "source": [
    "## Distribution by Correlation"
   ]
  },
  {
   "cell_type": "code",
   "execution_count": 11,
   "metadata": {},
   "outputs": [
    {
     "data": {
      "image/png": "[encoded data removed]",
      "text/plain": [
       "<Figure size 432x288 with 1 Axes>"
      ]
     },
     "metadata": {
      "needs_background": "light"
     },
     "output_type": "display_data"
    }
   ],
   "source": [
    "df_corr.plot(kind='barh')\n",
    "plt.title('Attributes Selected by Corralation')\n",
    "plt.xlabel('Correlation absolute')\n",
    "plt.show() "
   ]
  },
  {
   "cell_type": "code",
   "execution_count": 12,
   "metadata": {},
   "outputs": [
    {
     "data": {
      "text/html": [
       "<div>\n",
       "<style scoped>\n",
       "    .dataframe tbody tr th:only-of-type {\n",
       "        vertical-align: middle;\n",
       "    }\n",
       "\n",
       "    .dataframe tbody tr th {\n",
       "        vertical-align: top;\n",
       "    }\n",
       "\n",
       "    .dataframe thead th {\n",
       "        text-align: right;\n",
       "    }\n",
       "</style>\n",
       "<table border=\"1\" class=\"dataframe\">\n",
       "  <thead>\n",
       "    <tr style=\"text-align: right;\">\n",
       "      <th></th>\n",
       "      <th>ID</th>\n",
       "      <th>Source</th>\n",
       "      <th>TMC</th>\n",
       "      <th>Severity</th>\n",
       "      <th>Start_Time</th>\n",
       "      <th>End_Time</th>\n",
       "      <th>Start_Lat</th>\n",
       "      <th>Start_Lng</th>\n",
       "      <th>End_Lat</th>\n",
       "      <th>End_Lng</th>\n",
       "      <th>...</th>\n",
       "      <th>Roundabout</th>\n",
       "      <th>Station</th>\n",
       "      <th>Stop</th>\n",
       "      <th>Traffic_Calming</th>\n",
       "      <th>Traffic_Signal</th>\n",
       "      <th>Turning_Loop</th>\n",
       "      <th>Sunrise_Sunset</th>\n",
       "      <th>Civil_Twilight</th>\n",
       "      <th>Nautical_Twilight</th>\n",
       "      <th>Astronomical_Twilight</th>\n",
       "    </tr>\n",
       "  </thead>\n",
       "  <tbody>\n",
       "    <tr>\n",
       "      <th>count</th>\n",
       "      <td>3513617</td>\n",
       "      <td>3513617</td>\n",
       "      <td>3.513617e+06</td>\n",
       "      <td>3.513617e+06</td>\n",
       "      <td>3513617</td>\n",
       "      <td>3513617</td>\n",
       "      <td>3.513617e+06</td>\n",
       "      <td>3.513617e+06</td>\n",
       "      <td>3.513617e+06</td>\n",
       "      <td>3.513617e+06</td>\n",
       "      <td>...</td>\n",
       "      <td>3513617</td>\n",
       "      <td>3513617</td>\n",
       "      <td>3513617</td>\n",
       "      <td>3513617</td>\n",
       "      <td>3513617</td>\n",
       "      <td>3513617</td>\n",
       "      <td>3513617</td>\n",
       "      <td>3513617</td>\n",
       "      <td>3513617</td>\n",
       "      <td>3513617</td>\n",
       "    </tr>\n",
       "    <tr>\n",
       "      <th>unique</th>\n",
       "      <td>3513617</td>\n",
       "      <td>3</td>\n",
       "      <td>NaN</td>\n",
       "      <td>NaN</td>\n",
       "      <td>3200042</td>\n",
       "      <td>3246120</td>\n",
       "      <td>NaN</td>\n",
       "      <td>NaN</td>\n",
       "      <td>NaN</td>\n",
       "      <td>NaN</td>\n",
       "      <td>...</td>\n",
       "      <td>2</td>\n",
       "      <td>2</td>\n",
       "      <td>2</td>\n",
       "      <td>2</td>\n",
       "      <td>2</td>\n",
       "      <td>1</td>\n",
       "      <td>2</td>\n",
       "      <td>2</td>\n",
       "      <td>2</td>\n",
       "      <td>2</td>\n",
       "    </tr>\n",
       "    <tr>\n",
       "      <th>top</th>\n",
       "      <td>A-1511253</td>\n",
       "      <td>MapQuest</td>\n",
       "      <td>NaN</td>\n",
       "      <td>NaN</td>\n",
       "      <td>2017-05-15 09:22:55</td>\n",
       "      <td>2017-05-15 15:22:55</td>\n",
       "      <td>NaN</td>\n",
       "      <td>NaN</td>\n",
       "      <td>NaN</td>\n",
       "      <td>NaN</td>\n",
       "      <td>...</td>\n",
       "      <td>False</td>\n",
       "      <td>False</td>\n",
       "      <td>False</td>\n",
       "      <td>False</td>\n",
       "      <td>False</td>\n",
       "      <td>False</td>\n",
       "      <td>Day</td>\n",
       "      <td>Day</td>\n",
       "      <td>Day</td>\n",
       "      <td>Day</td>\n",
       "    </tr>\n",
       "    <tr>\n",
       "      <th>freq</th>\n",
       "      <td>1</td>\n",
       "      <td>2414301</td>\n",
       "      <td>NaN</td>\n",
       "      <td>NaN</td>\n",
       "      <td>74</td>\n",
       "      <td>73</td>\n",
       "      <td>NaN</td>\n",
       "      <td>NaN</td>\n",
       "      <td>NaN</td>\n",
       "      <td>NaN</td>\n",
       "      <td>...</td>\n",
       "      <td>3513433</td>\n",
       "      <td>3443296</td>\n",
       "      <td>3461641</td>\n",
       "      <td>3512216</td>\n",
       "      <td>2889994</td>\n",
       "      <td>3513617</td>\n",
       "      <td>2593872</td>\n",
       "      <td>2768036</td>\n",
       "      <td>2943513</td>\n",
       "      <td>3075116</td>\n",
       "    </tr>\n",
       "    <tr>\n",
       "      <th>mean</th>\n",
       "      <td>NaN</td>\n",
       "      <td>NaN</td>\n",
       "      <td>2.059544e+02</td>\n",
       "      <td>2.339929e+00</td>\n",
       "      <td>NaN</td>\n",
       "      <td>NaN</td>\n",
       "      <td>3.654195e+01</td>\n",
       "      <td>-9.579151e+01</td>\n",
       "      <td>3.654194e+01</td>\n",
       "      <td>-9.579147e+01</td>\n",
       "      <td>...</td>\n",
       "      <td>NaN</td>\n",
       "      <td>NaN</td>\n",
       "      <td>NaN</td>\n",
       "      <td>NaN</td>\n",
       "      <td>NaN</td>\n",
       "      <td>NaN</td>\n",
       "      <td>NaN</td>\n",
       "      <td>NaN</td>\n",
       "      <td>NaN</td>\n",
       "      <td>NaN</td>\n",
       "    </tr>\n",
       "    <tr>\n",
       "      <th>std</th>\n",
       "      <td>NaN</td>\n",
       "      <td>NaN</td>\n",
       "      <td>1.773360e+01</td>\n",
       "      <td>5.521935e-01</td>\n",
       "      <td>NaN</td>\n",
       "      <td>NaN</td>\n",
       "      <td>4.883520e+00</td>\n",
       "      <td>1.736877e+01</td>\n",
       "      <td>4.883503e+00</td>\n",
       "      <td>1.736876e+01</td>\n",
       "      <td>...</td>\n",
       "      <td>NaN</td>\n",
       "      <td>NaN</td>\n",
       "      <td>NaN</td>\n",
       "      <td>NaN</td>\n",
       "      <td>NaN</td>\n",
       "      <td>NaN</td>\n",
       "      <td>NaN</td>\n",
       "      <td>NaN</td>\n",
       "      <td>NaN</td>\n",
       "      <td>NaN</td>\n",
       "    </tr>\n",
       "    <tr>\n",
       "      <th>min</th>\n",
       "      <td>NaN</td>\n",
       "      <td>NaN</td>\n",
       "      <td>2.000000e+02</td>\n",
       "      <td>1.000000e+00</td>\n",
       "      <td>NaN</td>\n",
       "      <td>NaN</td>\n",
       "      <td>2.455527e+01</td>\n",
       "      <td>-1.246238e+02</td>\n",
       "      <td>2.455527e+01</td>\n",
       "      <td>-1.246238e+02</td>\n",
       "      <td>...</td>\n",
       "      <td>NaN</td>\n",
       "      <td>NaN</td>\n",
       "      <td>NaN</td>\n",
       "      <td>NaN</td>\n",
       "      <td>NaN</td>\n",
       "      <td>NaN</td>\n",
       "      <td>NaN</td>\n",
       "      <td>NaN</td>\n",
       "      <td>NaN</td>\n",
       "      <td>NaN</td>\n",
       "    </tr>\n",
       "    <tr>\n",
       "      <th>25%</th>\n",
       "      <td>NaN</td>\n",
       "      <td>NaN</td>\n",
       "      <td>2.010000e+02</td>\n",
       "      <td>2.000000e+00</td>\n",
       "      <td>NaN</td>\n",
       "      <td>NaN</td>\n",
       "      <td>3.363784e+01</td>\n",
       "      <td>-1.174418e+02</td>\n",
       "      <td>3.363784e+01</td>\n",
       "      <td>-1.174419e+02</td>\n",
       "      <td>...</td>\n",
       "      <td>NaN</td>\n",
       "      <td>NaN</td>\n",
       "      <td>NaN</td>\n",
       "      <td>NaN</td>\n",
       "      <td>NaN</td>\n",
       "      <td>NaN</td>\n",
       "      <td>NaN</td>\n",
       "      <td>NaN</td>\n",
       "      <td>NaN</td>\n",
       "      <td>NaN</td>\n",
       "    </tr>\n",
       "    <tr>\n",
       "      <th>50%</th>\n",
       "      <td>NaN</td>\n",
       "      <td>NaN</td>\n",
       "      <td>2.010000e+02</td>\n",
       "      <td>2.000000e+00</td>\n",
       "      <td>NaN</td>\n",
       "      <td>NaN</td>\n",
       "      <td>3.591687e+01</td>\n",
       "      <td>-9.102601e+01</td>\n",
       "      <td>3.591684e+01</td>\n",
       "      <td>-9.102598e+01</td>\n",
       "      <td>...</td>\n",
       "      <td>NaN</td>\n",
       "      <td>NaN</td>\n",
       "      <td>NaN</td>\n",
       "      <td>NaN</td>\n",
       "      <td>NaN</td>\n",
       "      <td>NaN</td>\n",
       "      <td>NaN</td>\n",
       "      <td>NaN</td>\n",
       "      <td>NaN</td>\n",
       "      <td>NaN</td>\n",
       "    </tr>\n",
       "    <tr>\n",
       "      <th>75%</th>\n",
       "      <td>NaN</td>\n",
       "      <td>NaN</td>\n",
       "      <td>2.010000e+02</td>\n",
       "      <td>3.000000e+00</td>\n",
       "      <td>NaN</td>\n",
       "      <td>NaN</td>\n",
       "      <td>4.032217e+01</td>\n",
       "      <td>-8.093299e+01</td>\n",
       "      <td>4.032217e+01</td>\n",
       "      <td>-8.093288e+01</td>\n",
       "      <td>...</td>\n",
       "      <td>NaN</td>\n",
       "      <td>NaN</td>\n",
       "      <td>NaN</td>\n",
       "      <td>NaN</td>\n",
       "      <td>NaN</td>\n",
       "      <td>NaN</td>\n",
       "      <td>NaN</td>\n",
       "      <td>NaN</td>\n",
       "      <td>NaN</td>\n",
       "      <td>NaN</td>\n",
       "    </tr>\n",
       "    <tr>\n",
       "      <th>max</th>\n",
       "      <td>NaN</td>\n",
       "      <td>NaN</td>\n",
       "      <td>4.060000e+02</td>\n",
       "      <td>4.000000e+00</td>\n",
       "      <td>NaN</td>\n",
       "      <td>NaN</td>\n",
       "      <td>4.900220e+01</td>\n",
       "      <td>-6.711317e+01</td>\n",
       "      <td>4.907500e+01</td>\n",
       "      <td>-6.710924e+01</td>\n",
       "      <td>...</td>\n",
       "      <td>NaN</td>\n",
       "      <td>NaN</td>\n",
       "      <td>NaN</td>\n",
       "      <td>NaN</td>\n",
       "      <td>NaN</td>\n",
       "      <td>NaN</td>\n",
       "      <td>NaN</td>\n",
       "      <td>NaN</td>\n",
       "      <td>NaN</td>\n",
       "      <td>NaN</td>\n",
       "    </tr>\n",
       "  </tbody>\n",
       "</table>\n",
       "<p>11 rows × 49 columns</p>\n",
       "</div>"
      ],
      "text/plain": [
       "               ID    Source           TMC      Severity           Start_Time  \\\n",
       "count     3513617   3513617  3.513617e+06  3.513617e+06              3513617   \n",
       "unique    3513617         3           NaN           NaN              3200042   \n",
       "top     A-1511253  MapQuest           NaN           NaN  2017-05-15 09:22:55   \n",
       "freq            1   2414301           NaN           NaN                   74   \n",
       "mean          NaN       NaN  2.059544e+02  2.339929e+00                  NaN   \n",
       "std           NaN       NaN  1.773360e+01  5.521935e-01                  NaN   \n",
       "min           NaN       NaN  2.000000e+02  1.000000e+00                  NaN   \n",
       "25%           NaN       NaN  2.010000e+02  2.000000e+00                  NaN   \n",
       "50%           NaN       NaN  2.010000e+02  2.000000e+00                  NaN   \n",
       "75%           NaN       NaN  2.010000e+02  3.000000e+00                  NaN   \n",
       "max           NaN       NaN  4.060000e+02  4.000000e+00                  NaN   \n",
       "\n",
       "                   End_Time     Start_Lat     Start_Lng       End_Lat  \\\n",
       "count               3513617  3.513617e+06  3.513617e+06  3.513617e+06   \n",
       "unique              3246120           NaN           NaN           NaN   \n",
       "top     2017-05-15 15:22:55           NaN           NaN           NaN   \n",
       "freq                     73           NaN           NaN           NaN   \n",
       "mean                    NaN  3.654195e+01 -9.579151e+01  3.654194e+01   \n",
       "std                     NaN  4.883520e+00  1.736877e+01  4.883503e+00   \n",
       "min                     NaN  2.455527e+01 -1.246238e+02  2.455527e+01   \n",
       "25%                     NaN  3.363784e+01 -1.174418e+02  3.363784e+01   \n",
       "50%                     NaN  3.591687e+01 -9.102601e+01  3.591684e+01   \n",
       "75%                     NaN  4.032217e+01 -8.093299e+01  4.032217e+01   \n",
       "max                     NaN  4.900220e+01 -6.711317e+01  4.907500e+01   \n",
       "\n",
       "             End_Lng  ...  Roundabout  Station     Stop Traffic_Calming  \\\n",
       "count   3.513617e+06  ...     3513617  3513617  3513617         3513617   \n",
       "unique           NaN  ...           2        2        2               2   \n",
       "top              NaN  ...       False    False    False           False   \n",
       "freq             NaN  ...     3513433  3443296  3461641         3512216   \n",
       "mean   -9.579147e+01  ...         NaN      NaN      NaN             NaN   \n",
       "std     1.736876e+01  ...         NaN      NaN      NaN             NaN   \n",
       "min    -1.246238e+02  ...         NaN      NaN      NaN             NaN   \n",
       "25%    -1.174419e+02  ...         NaN      NaN      NaN             NaN   \n",
       "50%    -9.102598e+01  ...         NaN      NaN      NaN             NaN   \n",
       "75%    -8.093288e+01  ...         NaN      NaN      NaN             NaN   \n",
       "max    -6.710924e+01  ...         NaN      NaN      NaN             NaN   \n",
       "\n",
       "       Traffic_Signal Turning_Loop Sunrise_Sunset Civil_Twilight  \\\n",
       "count         3513617      3513617        3513617        3513617   \n",
       "unique              2            1              2              2   \n",
       "top             False        False            Day            Day   \n",
       "freq          2889994      3513617        2593872        2768036   \n",
       "mean              NaN          NaN            NaN            NaN   \n",
       "std               NaN          NaN            NaN            NaN   \n",
       "min               NaN          NaN            NaN            NaN   \n",
       "25%               NaN          NaN            NaN            NaN   \n",
       "50%               NaN          NaN            NaN            NaN   \n",
       "75%               NaN          NaN            NaN            NaN   \n",
       "max               NaN          NaN            NaN            NaN   \n",
       "\n",
       "       Nautical_Twilight Astronomical_Twilight  \n",
       "count            3513617               3513617  \n",
       "unique                 2                     2  \n",
       "top                  Day                   Day  \n",
       "freq             2943513               3075116  \n",
       "mean                 NaN                   NaN  \n",
       "std                  NaN                   NaN  \n",
       "min                  NaN                   NaN  \n",
       "25%                  NaN                   NaN  \n",
       "50%                  NaN                   NaN  \n",
       "75%                  NaN                   NaN  \n",
       "max                  NaN                   NaN  \n",
       "\n",
       "[11 rows x 49 columns]"
      ]
     },
     "execution_count": 12,
     "metadata": {},
     "output_type": "execute_result"
    }
   ],
   "source": [
    "df.describe(include='all')"
   ]
  },
  {
   "cell_type": "markdown",
   "metadata": {},
   "source": [
    "## Plotting basics x,y"
   ]
  },
  {
   "cell_type": "code",
   "execution_count": 13,
   "metadata": {},
   "outputs": [
    {
     "data": {
      "image/png": "[encoded data removed]",
      "text/plain": [
       "<Figure size 432x288 with 1 Axes>"
      ]
     },
     "metadata": {
      "needs_background": "light"
     },
     "output_type": "display_data"
    }
   ],
   "source": [
    "sns.scatterplot(x='Start_Lng', y='Start_Lat', data=df, hue='State', legend=False, s=20)\n",
    "plt.show()"
   ]
  },
  {
   "cell_type": "markdown",
   "metadata": {},
   "source": [
    "## Description principal Attributes"
   ]
  },
  {
   "cell_type": "markdown",
   "metadata": {},
   "source": [
    "## Traffic Signal vs Severity"
   ]
  },
  {
   "cell_type": "code",
   "execution_count": 14,
   "metadata": {},
   "outputs": [
    {
     "data": {
      "text/plain": [
       "<seaborn.axisgrid.FacetGrid at 0x1a7ad4e3208>"
      ]
     },
     "execution_count": 14,
     "metadata": {},
     "output_type": "execute_result"
    },
    {
     "data": {
      "image/png": "[encoded data removed]",
      "text/plain": [
       "<Figure size 777.6x432 with 2 Axes>"
      ]
     },
     "metadata": {
      "needs_background": "light"
     },
     "output_type": "display_data"
    }
   ],
   "source": [
    "\n",
    "bins = np.linspace(df.Severity.min(), df.Severity.max(), 5)\n",
    "g = sns.FacetGrid(df, col=\"Traffic_Signal\",height=6, palette=\"flare\", aspect=.90, col_wrap=2)\n",
    "g.map(sns.histplot, \"Severity\", bins=bins)"
   ]
  },
  {
   "cell_type": "markdown",
   "metadata": {},
   "source": [
    "## Distance (mi) vs Severity"
   ]
  },
  {
   "cell_type": "code",
   "execution_count": 15,
   "metadata": {},
   "outputs": [
    {
     "data": {
      "image/png": "[encoded data removed]",
      "text/plain": [
       "<Figure size 567.525x432 with 1 Axes>"
      ]
     },
     "metadata": {
      "needs_background": "light"
     },
     "output_type": "display_data"
    }
   ],
   "source": [
    "df.rename(columns={'Distance(mi)':'Distance_mi'}, inplace=True)\n",
    "bins = np.linspace(df.Distance_mi.min(), df.Distance_mi.std(),5)\n",
    "g = sns.FacetGrid(df, hue=\"Severity\", palette=\"flare\", height=6, aspect=1.20)\n",
    "g.map(sns.histplot, \"Distance_mi\", bins=bins)\n",
    "g.fig.suptitle(\"Frecuency of Severity by Distance(mi)\")\n",
    "g.add_legend()\n",
    "g.set_ylabels(\"Count Millions\")\n",
    "plt.show()\n",
    "df.rename(columns={'Distance_mi':'Distance(mi)'}, inplace=True)"
   ]
  },
  {
   "cell_type": "code",
   "execution_count": 16,
   "metadata": {},
   "outputs": [
    {
     "data": {
      "text/plain": [
       "<AxesSubplot:xlabel='Severity', ylabel='Distance(mi)'>"
      ]
     },
     "execution_count": 16,
     "metadata": {},
     "output_type": "execute_result"
    },
    {
     "data": {
      "image/png": "[encoded data removed]",
      "text/plain": [
       "<Figure size 432x288 with 1 Axes>"
      ]
     },
     "metadata": {
      "needs_background": "light"
     },
     "output_type": "display_data"
    }
   ],
   "source": [
    "sns.boxplot(x=\"Severity\", y=\"Distance(mi)\", data=df)"
   ]
  },
  {
   "cell_type": "markdown",
   "metadata": {},
   "source": [
    "## Crossing vs Severity"
   ]
  },
  {
   "cell_type": "code",
   "execution_count": 17,
   "metadata": {},
   "outputs": [
    {
     "data": {
      "image/png": "[encoded data removed]",
      "text/plain": [
       "<Figure size 579.65x432 with 1 Axes>"
      ]
     },
     "metadata": {
      "needs_background": "light"
     },
     "output_type": "display_data"
    }
   ],
   "source": [
    "\n",
    "bins = np.linspace(df.Severity.min(), df.Severity.max(), 5)\n",
    "g = sns.FacetGrid(df, hue=\"Crossing\", palette=\"flare\", height=6, aspect=1.20)\n",
    "g.map(sns.histplot, \"Severity\", bins=bins)\n",
    "g.fig.suptitle(\"Frecuency of Severity by Crossing\")\n",
    "g.add_legend()\n",
    "g.set_ylabels(\"Count Millions\")\n",
    "plt.show()"
   ]
  },
  {
   "cell_type": "markdown",
   "metadata": {},
   "source": [
    "## TMC vs Severity"
   ]
  },
  {
   "cell_type": "code",
   "execution_count": 18,
   "metadata": {
    "scrolled": true
   },
   "outputs": [
    {
     "data": {
      "image/png": "[encoded data removed]",
      "text/plain": [
       "<Figure size 567.525x432 with 1 Axes>"
      ]
     },
     "metadata": {
      "needs_background": "light"
     },
     "output_type": "display_data"
    }
   ],
   "source": [
    "\n",
    "bins = np.linspace(201, 241,4)\n",
    "g = sns.FacetGrid(df, hue=\"Severity\", palette=\"flare\", height=6, aspect=1.20)\n",
    "g.map(sns.histplot, \"TMC\", bins=bins)\n",
    "g.fig.suptitle(\"Frecuency of Severity by TMC\")\n",
    "g.add_legend()\n",
    "g.set_ylabels(\"Count Millions\")\n",
    "plt.show()"
   ]
  },
  {
   "cell_type": "code",
   "execution_count": 19,
   "metadata": {},
   "outputs": [
    {
     "data": {
      "image/png": "[encoded data removed]",
      "text/plain": [
       "<Figure size 432x288 with 1 Axes>"
      ]
     },
     "metadata": {
      "needs_background": "light"
     },
     "output_type": "display_data"
    }
   ],
   "source": [
    "\n",
    "freq_TMC = df['TMC'].value_counts()\n",
    "freq_TMC.plot(kind='barh')\n",
    "plt.title('TMC Count by type')\n",
    "plt.xlabel('Count in millions')\n",
    "plt.show() \n"
   ]
  },
  {
   "cell_type": "markdown",
   "metadata": {},
   "source": [
    "## Junction Vs Severity"
   ]
  },
  {
   "cell_type": "code",
   "execution_count": 20,
   "metadata": {},
   "outputs": [
    {
     "data": {
      "image/png": "[encoded data removed]",
      "text/plain": [
       "<Figure size 579.65x432 with 1 Axes>"
      ]
     },
     "metadata": {
      "needs_background": "light"
     },
     "output_type": "display_data"
    }
   ],
   "source": [
    "bins = np.linspace(df.Severity.min(), df.Severity.max(), 5)\n",
    "g = sns.FacetGrid(df, hue=\"Junction\", palette=\"flare\", height=6, aspect=1.20)\n",
    "g.map(sns.histplot, \"Severity\", bins=bins)\n",
    "g.fig.suptitle(\"Frecuency of Severity by Junction\")\n",
    "g.add_legend()\n",
    "g.set_ylabels(\"Count Millions\")\n",
    "plt.show()"
   ]
  },
  {
   "cell_type": "markdown",
   "metadata": {},
   "source": [
    "## Stop vs Severity"
   ]
  },
  {
   "cell_type": "code",
   "execution_count": 21,
   "metadata": {},
   "outputs": [
    {
     "data": {
      "image/png": "[encoded data removed]",
      "text/plain": [
       "<Figure size 579.65x432 with 1 Axes>"
      ]
     },
     "metadata": {
      "needs_background": "light"
     },
     "output_type": "display_data"
    }
   ],
   "source": [
    "bins = np.linspace(df.Severity.min(), df.Severity.max(), 5)\n",
    "g = sns.FacetGrid(df, hue=\"Stop\", palette=\"flare\", height=6, aspect=1.20)\n",
    "g.map(sns.histplot, \"Severity\", bins=bins)\n",
    "g.fig.suptitle(\"Frecuency of Severity by Stop\")\n",
    "g.add_legend()\n",
    "g.set_ylabels(\"Count Millions\")\n",
    "plt.show()"
   ]
  },
  {
   "cell_type": "markdown",
   "metadata": {},
   "source": [
    "## Station vs Severity"
   ]
  },
  {
   "cell_type": "code",
   "execution_count": 22,
   "metadata": {},
   "outputs": [
    {
     "data": {
      "image/png": "[encoded data removed]",
      "text/plain": [
       "<Figure size 579.65x432 with 1 Axes>"
      ]
     },
     "metadata": {
      "needs_background": "light"
     },
     "output_type": "display_data"
    }
   ],
   "source": [
    "bins = np.linspace(df.Severity.min(), df.Severity.max(), 5)\n",
    "g = sns.FacetGrid(df, hue=\"Station\", palette=\"flare\", height=6, aspect=1.20)\n",
    "g.map(sns.histplot, \"Severity\", bins=bins)\n",
    "g.fig.suptitle(\"Frecuency of Severity by Station\")\n",
    "g.add_legend()\n",
    "g.set_ylabels(\"Count Millions\")\n",
    "plt.show()"
   ]
  },
  {
   "cell_type": "markdown",
   "metadata": {},
   "source": [
    "## Amenity vs Severity"
   ]
  },
  {
   "cell_type": "code",
   "execution_count": 23,
   "metadata": {},
   "outputs": [
    {
     "data": {
      "image/png": "[encoded data removed]",
      "text/plain": [
       "<Figure size 579.65x432 with 1 Axes>"
      ]
     },
     "metadata": {
      "needs_background": "light"
     },
     "output_type": "display_data"
    }
   ],
   "source": [
    "bins = np.linspace(df.Severity.min(), df.Severity.max(), 5)\n",
    "g = sns.FacetGrid(df, hue=\"Amenity\", palette=\"flare\", height=6, aspect=1.20)\n",
    "g.map(sns.histplot, \"Severity\", bins=bins)\n",
    "g.fig.suptitle(\"Frecuency of Severity by Amenity\")\n",
    "g.add_legend()\n",
    "g.set_ylabels(\"Count Millions\")\n",
    "plt.show()"
   ]
  },
  {
   "cell_type": "markdown",
   "metadata": {},
   "source": [
    "## Start Lat vs Severity"
   ]
  },
  {
   "cell_type": "code",
   "execution_count": 24,
   "metadata": {},
   "outputs": [
    {
     "data": {
      "image/png": "[encoded data removed]",
      "text/plain": [
       "<Figure size 567.525x432 with 1 Axes>"
      ]
     },
     "metadata": {
      "needs_background": "light"
     },
     "output_type": "display_data"
    }
   ],
   "source": [
    "\n",
    "bins = np.linspace(df.Start_Lat.min(), df.Start_Lat.max(),5)\n",
    "g = sns.FacetGrid(df, hue=\"Severity\", palette=\"flare\", height=6, aspect=1.20)\n",
    "g.map(sns.histplot, \"Start_Lat\", bins=bins)\n",
    "g.fig.suptitle(\"Frecuency of Severity by Start Lat\")\n",
    "g.add_legend()\n",
    "g.set_ylabels(\"Count Millions\")\n",
    "plt.show()\n"
   ]
  },
  {
   "cell_type": "markdown",
   "metadata": {},
   "source": [
    "## Defining Features for the Model"
   ]
  },
  {
   "cell_type": "code",
   "execution_count": 25,
   "metadata": {},
   "outputs": [
    {
     "data": {
      "text/plain": [
       "['Traffic_Signal',\n",
       " 'Distance(mi)',\n",
       " 'Crossing',\n",
       " 'TMC',\n",
       " 'End_Lng',\n",
       " 'Start_Lng',\n",
       " 'Junction',\n",
       " 'Stop',\n",
       " 'Wind_Chill(F)',\n",
       " 'Station',\n",
       " 'End_Lat',\n",
       " 'Start_Lat',\n",
       " 'Amenity',\n",
       " 'Pressure(in)',\n",
       " 'Number',\n",
       " 'Humidity(%)',\n",
       " 'Temperature(F)',\n",
       " 'Wind_Speed(mph)',\n",
       " 'Railway',\n",
       " 'Give_Way',\n",
       " 'Precipitation(in)',\n",
       " 'No_Exit',\n",
       " 'Traffic_Calming',\n",
       " 'Visibility(mi)']"
      ]
     },
     "execution_count": 25,
     "metadata": {},
     "output_type": "execute_result"
    }
   ],
   "source": [
    "#features for x axe\n",
    "features=df_corr.index.tolist()\n",
    "features\n"
   ]
  },
  {
   "cell_type": "code",
   "execution_count": 26,
   "metadata": {},
   "outputs": [],
   "source": [
    "x=df[features]"
   ]
  },
  {
   "cell_type": "code",
   "execution_count": 27,
   "metadata": {},
   "outputs": [],
   "source": [
    "y=df['Severity'].values"
   ]
  },
  {
   "cell_type": "markdown",
   "metadata": {},
   "source": [
    "## Preprocessing the Model"
   ]
  },
  {
   "cell_type": "code",
   "execution_count": 28,
   "metadata": {},
   "outputs": [
    {
     "data": {
      "text/plain": [
       "array([[-0.46452874, -0.17522141, -0.29112545, -0.27937673,  0.67550864,\n",
       "         0.67551064, -0.29679521, -0.12253507,  0.09854989, -0.1429076 ,\n",
       "         0.68049585,  0.68049322, -0.11010002, -0.08222406, -0.12486823,\n",
       "         1.09310791, -1.36200756, -0.62285786, -0.09461528, -0.05224376,\n",
       "         0.10525316, -0.0353451 , -0.01997232,  0.3004176 ],\n",
       "       [-0.46452874, -0.17522141, -0.29112545, -0.27937673,  0.74618377,\n",
       "         0.74618571, -0.29679521, -0.12253507,  0.09854989, -0.1429076 ,\n",
       "         0.69337841,  0.69337573, -0.11010002, -0.11855542, -0.14849362,\n",
       "         1.48359924, -1.30784913, -0.62285786, -0.09461528, -0.05224376,\n",
       "        -0.05382806, -0.0353451 , -0.01997232,  0.3004176 ],\n",
       "       [ 2.15271932, -0.17522141, -0.29112545, -0.27937673,  0.6770122 ,\n",
       "         0.6770142 , -0.29679521, -0.12253507, -1.35020892, -0.1429076 ,\n",
       "         0.51626965,  0.5162676 , -0.11010002, -0.09433451, -0.12486823,\n",
       "         1.48359924, -1.41075014, -0.84031011, -0.09461528, -0.05224376,\n",
       "        -0.05382806, -0.0353451 , -0.01997232,  0.3004176 ],\n",
       "       [-0.46452874, -0.17522141, -0.29112545, -0.27937673,  0.66705328,\n",
       "         0.66705529, -0.29679521, -0.12253507, -1.49080577, -0.1429076 ,\n",
       "         0.65645695,  0.65645441, -0.11010002, -0.13066587, -0.12486823,\n",
       "         1.31004754, -1.45949273, -0.62285786, -0.09461528, -0.05224376,\n",
       "        -0.05382806, -0.0353451 , -0.01997232, -0.04955046],\n",
       "       [ 2.15271932, -0.17522141, -0.29112545, -0.27937673,  0.66804518,\n",
       "         0.66804718, -0.29679521, -0.12253507, -1.35020892, -0.1429076 ,\n",
       "         0.63189016,  0.6318877 , -0.11010002, -0.11855542, -0.12486823,\n",
       "         1.00633206, -1.41075014, -0.84031011, -0.09461528, -0.05224376,\n",
       "        -0.05382806, -0.0353451 , -0.01997232, -1.09945461]])"
      ]
     },
     "execution_count": 28,
     "metadata": {},
     "output_type": "execute_result"
    }
   ],
   "source": [
    "x= preprocessing.StandardScaler().fit(x).transform(x)\n",
    "x[0:5]"
   ]
  },
  {
   "cell_type": "code",
   "execution_count": 29,
   "metadata": {},
   "outputs": [
    {
     "name": "stdout",
     "output_type": "stream",
     "text": [
      "Train set: (2810893, 24) (2810893,)\n",
      "Test set: (702724, 24) (702724,)\n"
     ]
    }
   ],
   "source": [
    "\n",
    "x_train, x_test, y_train, y_test = train_test_split( x, y, test_size=0.2, random_state=4)\n",
    "print ('Train set:', x_train.shape,  y_train.shape)\n",
    "print ('Test set:', x_test.shape,  y_test.shape)"
   ]
  },
  {
   "cell_type": "markdown",
   "metadata": {},
   "source": [
    "## Modeling Decision Tree "
   ]
  },
  {
   "cell_type": "code",
   "execution_count": 30,
   "metadata": {},
   "outputs": [],
   "source": [
    "\n",
    "\n",
    "#Modeling\n",
    "loanTree = DecisionTreeClassifier(criterion=\"entropy\", max_depth = 4)\n",
    "\n",
    "#train\n",
    "loanTree.fit(x_train,y_train)\n",
    "\n",
    "#Prediction\n",
    "yhat = loanTree.predict(x_test)\n",
    "\n",
    "Algorithm='Decision Tree'\n",
    "Jaccard=jaccard_score(y_test, yhat, average='weighted')\n",
    "F1_score=f1_score(y_test, yhat, average='weighted')\n",
    "Accuracy=metrics.accuracy_score(y_test, yhat)\n",
    "LogLoss='NA'\n",
    "\n",
    "em_df = pd.DataFrame(columns=('Algorithm', 'Jaccard', 'F1_score', 'LogLoss','Accuracy'))\n",
    "em_df.loc[len(em_df)]=[Algorithm,Jaccard,F1_score,LogLoss,Accuracy]\n",
    "    \n"
   ]
  },
  {
   "cell_type": "markdown",
   "metadata": {},
   "source": [
    "## Modeling Logistic Regression"
   ]
  },
  {
   "cell_type": "code",
   "execution_count": 31,
   "metadata": {},
   "outputs": [],
   "source": [
    "#Logistic Regression\n",
    "\n",
    "#Modeling\n",
    "LR = LogisticRegression(C=0.01, solver='liblinear').fit(x_train,y_train)\n",
    "\n",
    "#Predict\n",
    "yhat = LR.predict(x_test)\n",
    "\n",
    "#Predict Prob\n",
    "yhat_prob = LR.predict_proba(x_test)\n",
    "\n",
    "Algorithm='Logistic Regression'\n",
    "Jaccard=jaccard_score(y_test, yhat, average='weighted')\n",
    "F1_score=f1_score(y_test, yhat, average='weighted')\n",
    "Accuracy=metrics.accuracy_score(y_test, yhat)\n",
    "LogLoss=log_loss(y_test, yhat_prob)\n",
    "\n",
    "em_df.loc[len(em_df)]=[Algorithm,Jaccard,F1_score,LogLoss,Accuracy]\n",
    "\n"
   ]
  },
  {
   "cell_type": "markdown",
   "metadata": {},
   "source": [
    "## Summary of model"
   ]
  },
  {
   "cell_type": "code",
   "execution_count": 32,
   "metadata": {},
   "outputs": [
    {
     "data": {
      "text/html": [
       "<style  type=\"text/css\" >\n",
       "</style><table id=\"T_2672084a_0a6b_11eb_b6a1_e86a64f99440\" ><thead>    <tr>        <th class=\"col_heading level0 col0\" >Algorithm</th>        <th class=\"col_heading level0 col1\" >Jaccard</th>        <th class=\"col_heading level0 col2\" >F1_score</th>        <th class=\"col_heading level0 col3\" >LogLoss</th>        <th class=\"col_heading level0 col4\" >Accuracy</th>    </tr></thead><tbody>\n",
       "                <tr>\n",
       "                                <td id=\"T_2672084a_0a6b_11eb_b6a1_e86a64f99440row0_col0\" class=\"data row0 col0\" >Decision Tree</td>\n",
       "                        <td id=\"T_2672084a_0a6b_11eb_b6a1_e86a64f99440row0_col1\" class=\"data row0 col1\" >0.527681</td>\n",
       "                        <td id=\"T_2672084a_0a6b_11eb_b6a1_e86a64f99440row0_col2\" class=\"data row0 col2\" >0.677101</td>\n",
       "                        <td id=\"T_2672084a_0a6b_11eb_b6a1_e86a64f99440row0_col3\" class=\"data row0 col3\" >NA</td>\n",
       "                        <td id=\"T_2672084a_0a6b_11eb_b6a1_e86a64f99440row0_col4\" class=\"data row0 col4\" >0.682432</td>\n",
       "            </tr>\n",
       "            <tr>\n",
       "                                <td id=\"T_2672084a_0a6b_11eb_b6a1_e86a64f99440row1_col0\" class=\"data row1 col0\" >Logistic Regression</td>\n",
       "                        <td id=\"T_2672084a_0a6b_11eb_b6a1_e86a64f99440row1_col1\" class=\"data row1 col1\" >0.507619</td>\n",
       "                        <td id=\"T_2672084a_0a6b_11eb_b6a1_e86a64f99440row1_col2\" class=\"data row1 col2\" >0.626959</td>\n",
       "                        <td id=\"T_2672084a_0a6b_11eb_b6a1_e86a64f99440row1_col3\" class=\"data row1 col3\" >0.697687</td>\n",
       "                        <td id=\"T_2672084a_0a6b_11eb_b6a1_e86a64f99440row1_col4\" class=\"data row1 col4\" >0.698150</td>\n",
       "            </tr>\n",
       "    </tbody></table>"
      ],
      "text/plain": [
       "<pandas.io.formats.style.Styler at 0x1a8357e0278>"
      ]
     },
     "execution_count": 32,
     "metadata": {},
     "output_type": "execute_result"
    }
   ],
   "source": [
    "em_df.style.hide_index()"
   ]
  },
  {
   "cell_type": "markdown",
   "metadata": {},
   "source": [
    "Created by: Juan Carlos Zambrano"
   ]
  }
 ],
 "metadata": {
  "kernelspec": {
   "display_name": "Python 3",
   "language": "python",
   "name": "python3"
  },
  "language_info": {
   "codemirror_mode": {
    "name": "ipython",
    "version": 3
   },
   "file_extension": ".py",
   "mimetype": "text/x-python",
   "name": "python",
   "nbconvert_exporter": "python",
   "pygments_lexer": "ipython3",
   "version": "3.6.12"
  }
 },
 "nbformat": 4,
 "nbformat_minor": 4
}
